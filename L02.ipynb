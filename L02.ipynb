from Bio import Entrez, SeqIO
Entrez.email = 'jd42687@comcast.net'
